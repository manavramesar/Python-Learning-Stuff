{
 "cells": [
  {
   "cell_type": "code",
   "execution_count": 111,
   "id": "41c824bd-4638-4998-8327-5a37f4a056bc",
   "metadata": {},
   "outputs": [
    {
     "name": "stdout",
     "output_type": "stream",
     "text": [
      "Get milk\n"
     ]
    }
   ],
   "source": [
    "###MFunction (it becomes a method when it belongs to a class\n",
    "\n",
    "def get_milk():\n",
    "    print('Get milk')\n",
    "\n",
    "get_milk() ## This part is called calling the function"
   ]
  },
  {
   "cell_type": "code",
   "execution_count": 113,
   "id": "f5ac8046-a8a3-4f06-918a-9375f10cfc96",
   "metadata": {},
   "outputs": [
    {
     "name": "stdin",
     "output_type": "stream",
     "text": [
      "How many milks? 3\n"
     ]
    },
    {
     "name": "stdout",
     "output_type": "stream",
     "text": [
      "Buy 3 milk\n"
     ]
    }
   ],
   "source": [
    "## Parameter in Methods -- In this case, the parameter is the amount, it is a placeholder (like a variable)\n",
    "\n",
    "amount = int(input(\"How many milks?\"))\n",
    "\n",
    "def get_milk(amount):\n",
    "    print(f'Buy {amount} milk')\n",
    "\n",
    "get_milk(amount)"
   ]
  },
  {
   "cell_type": "code",
   "execution_count": 49,
   "id": "0239c470-9d44-45d1-9afe-d98e707c1cca",
   "metadata": {},
   "outputs": [
    {
     "name": "stdout",
     "output_type": "stream",
     "text": [
      "Buy 20 milk\n"
     ]
    }
   ],
   "source": [
    "## Arguments -- the argument is the 20 (it is the input for the function. \n",
    "\n",
    "## The difference between a parameter and an argument is that a parameter is defined when you are declaring the function and\n",
    "## the argument is defined when you are calling the function. In the parameter section, we are defining the function\n",
    "## in argument section, we are calling it (asking it to do something like the print function)\n",
    "\n",
    "def get_milk(amount):\n",
    "    print(f'Buy {amount} milk')\n",
    "\n",
    "get_milk('20')"
   ]
  },
  {
   "cell_type": "code",
   "execution_count": 109,
   "id": "98670ca1-6f83-4b58-84ed-863df60ae5a7",
   "metadata": {},
   "outputs": [
    {
     "name": "stdin",
     "output_type": "stream",
     "text": [
      "Please enter a number 3\n",
      "Please enter another number 2\n"
     ]
    },
    {
     "data": {
      "text/plain": [
       "6"
      ]
     },
     "execution_count": 109,
     "metadata": {},
     "output_type": "execute_result"
    }
   ],
   "source": [
    "## Return Statements - returns something in the method\n",
    "\n",
    "a = int(input('Please enter a number'))\n",
    "b = int(input('Please enter another number'))\n",
    "\n",
    "def multiply(result):\n",
    "    return a * b\n",
    "    \n",
    "multiply(result)\n"
   ]
  },
  {
   "cell_type": "code",
   "execution_count": null,
   "id": "7ba354f5-fc6a-4751-b484-be4c465652dc",
   "metadata": {},
   "outputs": [],
   "source": []
  }
 ],
 "metadata": {
  "kernelspec": {
   "display_name": "Python 3 (ipykernel)",
   "language": "python",
   "name": "python3"
  },
  "language_info": {
   "codemirror_mode": {
    "name": "ipython",
    "version": 3
   },
   "file_extension": ".py",
   "mimetype": "text/x-python",
   "name": "python",
   "nbconvert_exporter": "python",
   "pygments_lexer": "ipython3",
   "version": "3.11.5"
  }
 },
 "nbformat": 4,
 "nbformat_minor": 5
}

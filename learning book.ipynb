{
 "cells": [
  {
   "cell_type": "code",
   "execution_count": 18,
   "id": "964dc210",
   "metadata": {},
   "outputs": [
    {
     "data": {
      "text/plain": [
       "[1, 2, 3]"
      ]
     },
     "execution_count": 18,
     "metadata": {},
     "output_type": "execute_result"
    }
   ],
   "source": [
    "#list\n",
    "\n",
    "[1,2,3]"
   ]
  },
  {
   "cell_type": "code",
   "execution_count": 20,
   "id": "c6b2261f",
   "metadata": {},
   "outputs": [
    {
     "data": {
      "text/plain": [
       "['Cookie Dough', 'Strawberry', 'Chocolate']"
      ]
     },
     "execution_count": 20,
     "metadata": {},
     "output_type": "execute_result"
    }
   ],
   "source": [
    "['Cookie Dough','Strawberry','Chocolate']"
   ]
  },
  {
   "cell_type": "code",
   "execution_count": 1,
   "id": "56271d00",
   "metadata": {},
   "outputs": [
    {
     "data": {
      "text/plain": [
       "['Cookie Dough', 'Strawberry', 'Chocolate', 'Salted Caramel']"
      ]
     },
     "execution_count": 1,
     "metadata": {},
     "output_type": "execute_result"
    }
   ],
   "source": [
    "ice_cream = ['Cookie Dough','Strawberry','Chocolate']\n",
    "\n",
    "ice_cream.append('Salted Caramel')\n",
    "\n",
    "ice_cream"
   ]
  },
  {
   "cell_type": "code",
   "execution_count": 26,
   "id": "b381a02e",
   "metadata": {},
   "outputs": [],
   "source": [
    "# tuple - can't change or add compared to a list\n",
    "tuple_scoops = (1,2,3,2,1)"
   ]
  },
  {
   "cell_type": "code",
   "execution_count": null,
   "id": "5a144a17",
   "metadata": {},
   "outputs": [],
   "source": []
  },
  {
   "cell_type": "code",
   "execution_count": 28,
   "id": "17b7d53f",
   "metadata": {},
   "outputs": [],
   "source": [
    "#sets - no duplicates in sets compared to list / can't be accessed through an idex\n",
    "\n",
    "daily_pints = {1,2,3}"
   ]
  },
  {
   "cell_type": "code",
   "execution_count": 2,
   "id": "096d3304",
   "metadata": {},
   "outputs": [
    {
     "name": "stdout",
     "output_type": "stream",
     "text": [
      "{'brand': 'Ford', 'model': 'Mustang', 'year': 1964}\n"
     ]
    }
   ],
   "source": [
    "# dictionary -  used to store data values in key:value pairs /  a collection which is ordered*, changeable and do not allow duplicates\n",
    "\n",
    "thisdict = {\n",
    "  \"brand\": \"Ford\",\n",
    "  \"model\": \"Mustang\",\n",
    "  \"year\": 1964\n",
    "}\n",
    "print(thisdict)\n",
    "\n",
    "thisdict.update({\"year\": 2020}) # updates/adds items, if the item does not exist\n",
    "del thisdict[\"model\"] # deletes items with the specified key name"
   ]
  },
  {
   "cell_type": "code",
   "execution_count": null,
   "id": "c5bb9e7e",
   "metadata": {},
   "outputs": [],
   "source": [
    "# comparison operator - will return a true or false / >,<,==,!=, >=, <="
   ]
  },
  {
   "cell_type": "code",
   "execution_count": 1,
   "id": "97410cc3",
   "metadata": {},
   "outputs": [],
   "source": [
    "#logical operators - and (both return true), or (one true returned), not "
   ]
  },
  {
   "cell_type": "code",
   "execution_count": 1,
   "id": "7b9b0da1",
   "metadata": {},
   "outputs": [],
   "source": [
    "# memebership operator in (\tReturns True if a sequence with the specified value is present in the object),  not in (\tReturns True if a sequence with the specified value is not present in the object)\n",
    "# checks if a value is within an object\n",
    "# returns a true or false value"
   ]
  },
  {
   "cell_type": "code",
   "execution_count": 3,
   "id": "b7ed6984",
   "metadata": {},
   "outputs": [
    {
     "name": "stdout",
     "output_type": "stream",
     "text": [
      "It worked\n"
     ]
    }
   ],
   "source": [
    "# if statement \n",
    "\n",
    "if 25>10:\n",
    "    print('It worked')"
   ]
  },
  {
   "cell_type": "code",
   "execution_count": 6,
   "id": "3cc791ef",
   "metadata": {},
   "outputs": [
    {
     "name": "stdout",
     "output_type": "stream",
     "text": [
      "It did not work\n"
     ]
    }
   ],
   "source": [
    "# else statement\n",
    "\n",
    "if 25<10:\n",
    "    print('It worked')\n",
    "else:\n",
    "        print('It did not work')"
   ]
  },
  {
   "cell_type": "code",
   "execution_count": 4,
   "id": "03960a45",
   "metadata": {},
   "outputs": [
    {
     "name": "stdout",
     "output_type": "stream",
     "text": [
      "It worked\n"
     ]
    }
   ],
   "source": [
    "# elif statement\n",
    "\n",
    "if 25<10:\n",
    "    print('It worked')\n",
    "elif 25<30:\n",
    "    print('It worked')\n",
    "else:\n",
    "        print('It did not work')"
   ]
  },
  {
   "cell_type": "code",
   "execution_count": 5,
   "id": "ec433e9f",
   "metadata": {},
   "outputs": [
    {
     "name": "stdout",
     "output_type": "stream",
     "text": [
      "It worked\n",
      "This nested if statement worked\n"
     ]
    }
   ],
   "source": [
    "# nested if statement\n",
    "\n",
    "if (25<10) or (1 < 3):\n",
    "    print('It worked')\n",
    "    if 10 > 5:\n",
    "        print('This nested if statement worked')\n",
    "elif 25<30:\n",
    "    print('It worked')\n",
    "else:\n",
    "        print('It did not work')\n",
    "        \n",
    "#  The elif and else statements are not executed because the first if statement already found a True condition and its block was executed."
   ]
  },
  {
   "cell_type": "code",
   "execution_count": 6,
   "id": "404f57be",
   "metadata": {},
   "outputs": [
    {
     "name": "stdout",
     "output_type": "stream",
     "text": [
      "1\n",
      "2\n",
      "3\n",
      "4\n",
      "5\n"
     ]
    }
   ],
   "source": [
    "# For Loops\n",
    "\n",
    "integers = [1,2,3,4,5]\n",
    "\n",
    "for number in  integers: # 'number' is just a variable name, 'integers' is the source of where you're getting the input from\n",
    "    print(number)"
   ]
  },
  {
   "cell_type": "code",
   "execution_count": 17,
   "id": "d74a934c",
   "metadata": {},
   "outputs": [
    {
     "name": "stdout",
     "output_type": "stream",
     "text": [
      "Manav\n",
      "5\n",
      "['MCC', 'Chocolate']\n"
     ]
    }
   ],
   "source": [
    "ice_cream_dict = {'name': 'Manav', 'Weekly intake': 5, 'favourite ice creams': ['MCC','Chocolate']}\n",
    "\n",
    "for cream in ice_cream_dict.values():\n",
    "    print(cream)"
   ]
  },
  {
   "cell_type": "code",
   "execution_count": 19,
   "id": "ab1cb14f",
   "metadata": {},
   "outputs": [],
   "source": [
    "# Nested For Loops\n",
    "\n",
    "flavours = ['Vanilla', 'Chocolate','Cookie']\n",
    "toppings = ['Hot fudge','Oreos', 'Marshmallows']"
   ]
  },
  {
   "cell_type": "code",
   "execution_count": 20,
   "id": "41a07c4f",
   "metadata": {},
   "outputs": [
    {
     "name": "stdout",
     "output_type": "stream",
     "text": [
      "Vanilla topped with Hot fudge\n",
      "Vanilla topped with Oreos\n",
      "Vanilla topped with Marshmallows\n",
      "Chocolate topped with Hot fudge\n",
      "Chocolate topped with Oreos\n",
      "Chocolate topped with Marshmallows\n",
      "Cookie topped with Hot fudge\n",
      "Cookie topped with Oreos\n",
      "Cookie topped with Marshmallows\n"
     ]
    }
   ],
   "source": [
    "for one in flavours:\n",
    "    for two in toppings:\n",
    "        print (one, 'topped with', two)"
   ]
  },
  {
   "cell_type": "code",
   "execution_count": null,
   "id": "1802768a",
   "metadata": {},
   "outputs": [],
   "source": []
  }
 ],
 "metadata": {
  "kernelspec": {
   "display_name": "Python 3 (ipykernel)",
   "language": "python",
   "name": "python3"
  },
  "language_info": {
   "codemirror_mode": {
    "name": "ipython",
    "version": 3
   },
   "file_extension": ".py",
   "mimetype": "text/x-python",
   "name": "python",
   "nbconvert_exporter": "python",
   "pygments_lexer": "ipython3",
   "version": "3.11.5"
  }
 },
 "nbformat": 4,
 "nbformat_minor": 5
}
